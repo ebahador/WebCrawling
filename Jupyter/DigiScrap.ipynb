{
 "cells": [
  {
   "cell_type": "code",
   "execution_count": 7,
   "metadata": {
    "collapsed": true,
    "pycharm": {
     "name": "#%%\n",
     "is_executing": false
    }
   },
   "outputs": [
    {
     "name": "stdout",
     "text": [
      "\n"
     ],
     "output_type": "stream"
    }
   ],
   "source": [
    "# Digikala have been using AntiCrawler, so we need to change our technique a little\n",
    "from selenium import webdriver\n",
    "from selenium.webdriver.support.ui import WebDriverWait\n",
    "from selenium.webdriver.support import expected_conditions as EC\n",
    "from selenium.webdriver.common.by import By\n",
    "import time\n",
    "\n",
    "chromeBrowser = webdriver.Chrome()  # On Anaconda's/Python's root folder\n",
    "checking = 'https://www.digikala.com/'\n",
    "FLAG = True\n",
    "while FLAG:\n",
    "    link = input('Please put your Digikala link here: ')\n",
    "    if checking in link:\n",
    "        FLAG = False\n",
    "    else:\n",
    "        print('Your website either is not Digikala, or has not observed \"HTTPS\" legislation.')\n",
    "\n",
    "chromeBrowser.get(link)\n",
    "delay = 15  # 15 seconds for loading the page completely\n",
    "element = WebDriverWait(chromeBrowser, delay).until(EC.presence_of_element_located((By.LINK_TEXT, 'نظرات کاربران')))\n",
    "\n",
    "chromeBrowser.execute_script('arguments[0].scrollIntoView();', element)\n",
    "time.sleep(2)\n",
    "element.click()\n",
    "\n",
    "# instead of using HTML signs, we need to gain access to the CSS part to see the tags without any classes or IDs\n",
    "usersComments = chromeBrowser.find_elements_by_css_selector('.c-comments__list>li section .article p')\n",
    "commentsTitle = chromeBrowser.find_elements_by_css_selector('.c-comments__list>li section .article .header>div')\n",
    "usersIdentification = chromeBrowser.find_elements_by_css_selector('.c-comments__user-shopping>li .cell')\n",
    "usersOrder = chromeBrowser.find_elements_by_css_selector('.c-comments__list>li section .aside .c-message-light')\n",
    "\n",
    "content = ''\n",
    "for i in range(len(usersComments)):\n",
    "    content += '\\n****** User comments[' + str(i + 1) + '] ******\\n'\n",
    "    content += commentsTitle[i].text + \"\\n\"\n",
    "    content += \"- - - - \\n\"\n",
    "    content += usersComments[i].text\n",
    "    content += ' \\n'\n",
    "    if i < len(usersIdentification) - 1:\n",
    "        content += '[' + usersIdentification[i].text + ' __ ' + usersIdentification[i + 1].text + '] | ' \\\n",
    "                   + '[' + usersOrder[i].text + ' __ ' + usersOrder[i + 1].text + '] | \\n\\n'\n",
    "\n",
    "print(content)\n",
    "# file = open('C:\\\\Users\\\\BAHADOR\\\\Digi_Comments_Crawling.txt', 'w', encoding='utf-8')\n",
    "file = open('/Users/bahador/Desktop/Digi_Comments_Crawling.txt', 'w', encoding='utf-8')\n",
    "file.write(content)\n",
    "file.close()\n",
    "\n"
   ]
  }
 ],
 "metadata": {
  "language_info": {
   "codemirror_mode": {
    "name": "ipython",
    "version": 2
   },
   "file_extension": ".py",
   "mimetype": "text/x-python",
   "name": "python",
   "nbconvert_exporter": "python",
   "pygments_lexer": "ipython2",
   "version": "2.7.6"
  },
  "kernelspec": {
   "name": "python3",
   "language": "python",
   "display_name": "Python 3"
  },
  "pycharm": {
   "stem_cell": {
    "cell_type": "raw",
    "source": [],
    "metadata": {
     "collapsed": false
    }
   }
  }
 },
 "nbformat": 4,
 "nbformat_minor": 0
}